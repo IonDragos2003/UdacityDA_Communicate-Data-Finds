{
 "metadata": {
  "language_info": {
   "codemirror_mode": {
    "name": "ipython",
    "version": 3
   },
   "file_extension": ".py",
   "mimetype": "text/x-python",
   "name": "python",
   "nbconvert_exporter": "python",
   "pygments_lexer": "ipython3",
   "version": "3.6.10-final"
  },
  "orig_nbformat": 2,
  "kernelspec": {
   "name": "python361064bittestcondae2128a4af25040ab9546068ff4dee0d3",
   "display_name": "Python 3.6.10 64-bit ('test': conda)"
  }
 },
 "nbformat": 4,
 "nbformat_minor": 2,
 "cells": [
  {
   "cell_type": "markdown",
   "metadata": {},
   "source": [
    "# Visualizing FordGoBike Data\n",
    "\n",
    "#### (January 2017 - December 2017)\n",
    "\n",
    "by Dragos-Georgian Ion\n",
    "\n",
    "### Table of contents:\n",
    "\n",
    "* Introduction\n",
    "* Wranling (inspecting, assessing and cleaning up the dataset)\n",
    "* Univariate Exploration\n",
    "* Bivariate Exploration\n",
    "* Multivariate Exploration\n",
    "* Summary\n",
    "* References"
   ]
  },
  {
   "cell_type": "markdown",
   "metadata": {},
   "source": [
    "#### Bay Wheels (ex FordGoBike) is a regional public bicycle sharing system in California's San Francisco Bay Area. It is operated by Motivate in a partnership with the Metropolitan Transportation Commission and the Bay Area Air Quality Management District. Bay Wheels is the first regional and large-scale bicycle sharing system deployed in California and on the West Coast of the United States. It was established as Bay Area Bike Share in August 2013. As of January 2018, the Bay Wheels system had over 2,600 bicycles in 262 stations across San Francisco, East Bay and San Jose.\n",
    "\n",
    "Historic datasets can be found [here](https://www.lyft.com/bikes/bay-wheels/system-data)"
   ]
  },
  {
   "cell_type": "code",
   "execution_count": 34,
   "metadata": {},
   "outputs": [],
   "source": [
    "# Importing the necessary packages to start with\n",
    "\n",
    "import pandas as pd\n",
    "import numpy as np\n",
    "import seaborn as sns\n",
    "import matplotlib.pyplot as plt\n",
    "\n",
    "%matplotlib inline"
   ]
  },
  {
   "cell_type": "code",
   "execution_count": 3,
   "metadata": {},
   "outputs": [],
   "source": [
    "df = pd.read_csv('2017-fordgobike-tripdata.csv') # Reading the dataset downloaded as csv"
   ]
  },
  {
   "cell_type": "code",
   "execution_count": 4,
   "metadata": {},
   "outputs": [
    {
     "output_type": "execute_result",
     "data": {
      "text/plain": "   duration_sec                start_time                  end_time  \\\n0         80110  2017-12-31 16:57:39.6540  2018-01-01 15:12:50.2450   \n1         78800  2017-12-31 15:56:34.8420  2018-01-01 13:49:55.6170   \n2         45768  2017-12-31 22:45:48.4110  2018-01-01 11:28:36.8830   \n3         62172  2017-12-31 17:31:10.6360  2018-01-01 10:47:23.5310   \n4         43603  2017-12-31 14:23:14.0010  2018-01-01 02:29:57.5710   \n\n   start_station_id                                 start_station_name  \\\n0                74                              Laguna St at Hayes St   \n1               284  Yerba Buena Center for the Arts (Howard St at ...   \n2               245                             Downtown Berkeley BART   \n3                60                               8th St at Ringold St   \n4               239                      Bancroft Way at Telegraph Ave   \n\n   start_station_latitude  start_station_longitude  end_station_id  \\\n0               37.776435              -122.426244              43   \n1               37.784872              -122.400876              96   \n2               37.870348              -122.267764             245   \n3               37.774520              -122.409449               5   \n4               37.868813              -122.258764             247   \n\n                                    end_station_name  end_station_latitude  \\\n0  San Francisco Public Library (Grove St at Hyde...             37.778768   \n1                              Dolores St at 15th St             37.766210   \n2                             Downtown Berkeley BART             37.870348   \n3       Powell St BART Station (Market St at 5th St)             37.783899   \n4                          Fulton St at Bancroft Way             37.867789   \n\n   end_station_longitude  bike_id   user_type  \n0            -122.415929       96    Customer  \n1            -122.426614       88    Customer  \n2            -122.267764     1094    Customer  \n3            -122.408445     2831    Customer  \n4            -122.265896     3167  Subscriber  ",
      "text/html": "<div>\n<style scoped>\n    .dataframe tbody tr th:only-of-type {\n        vertical-align: middle;\n    }\n\n    .dataframe tbody tr th {\n        vertical-align: top;\n    }\n\n    .dataframe thead th {\n        text-align: right;\n    }\n</style>\n<table border=\"1\" class=\"dataframe\">\n  <thead>\n    <tr style=\"text-align: right;\">\n      <th></th>\n      <th>duration_sec</th>\n      <th>start_time</th>\n      <th>end_time</th>\n      <th>start_station_id</th>\n      <th>start_station_name</th>\n      <th>start_station_latitude</th>\n      <th>start_station_longitude</th>\n      <th>end_station_id</th>\n      <th>end_station_name</th>\n      <th>end_station_latitude</th>\n      <th>end_station_longitude</th>\n      <th>bike_id</th>\n      <th>user_type</th>\n    </tr>\n  </thead>\n  <tbody>\n    <tr>\n      <th>0</th>\n      <td>80110</td>\n      <td>2017-12-31 16:57:39.6540</td>\n      <td>2018-01-01 15:12:50.2450</td>\n      <td>74</td>\n      <td>Laguna St at Hayes St</td>\n      <td>37.776435</td>\n      <td>-122.426244</td>\n      <td>43</td>\n      <td>San Francisco Public Library (Grove St at Hyde...</td>\n      <td>37.778768</td>\n      <td>-122.415929</td>\n      <td>96</td>\n      <td>Customer</td>\n    </tr>\n    <tr>\n      <th>1</th>\n      <td>78800</td>\n      <td>2017-12-31 15:56:34.8420</td>\n      <td>2018-01-01 13:49:55.6170</td>\n      <td>284</td>\n      <td>Yerba Buena Center for the Arts (Howard St at ...</td>\n      <td>37.784872</td>\n      <td>-122.400876</td>\n      <td>96</td>\n      <td>Dolores St at 15th St</td>\n      <td>37.766210</td>\n      <td>-122.426614</td>\n      <td>88</td>\n      <td>Customer</td>\n    </tr>\n    <tr>\n      <th>2</th>\n      <td>45768</td>\n      <td>2017-12-31 22:45:48.4110</td>\n      <td>2018-01-01 11:28:36.8830</td>\n      <td>245</td>\n      <td>Downtown Berkeley BART</td>\n      <td>37.870348</td>\n      <td>-122.267764</td>\n      <td>245</td>\n      <td>Downtown Berkeley BART</td>\n      <td>37.870348</td>\n      <td>-122.267764</td>\n      <td>1094</td>\n      <td>Customer</td>\n    </tr>\n    <tr>\n      <th>3</th>\n      <td>62172</td>\n      <td>2017-12-31 17:31:10.6360</td>\n      <td>2018-01-01 10:47:23.5310</td>\n      <td>60</td>\n      <td>8th St at Ringold St</td>\n      <td>37.774520</td>\n      <td>-122.409449</td>\n      <td>5</td>\n      <td>Powell St BART Station (Market St at 5th St)</td>\n      <td>37.783899</td>\n      <td>-122.408445</td>\n      <td>2831</td>\n      <td>Customer</td>\n    </tr>\n    <tr>\n      <th>4</th>\n      <td>43603</td>\n      <td>2017-12-31 14:23:14.0010</td>\n      <td>2018-01-01 02:29:57.5710</td>\n      <td>239</td>\n      <td>Bancroft Way at Telegraph Ave</td>\n      <td>37.868813</td>\n      <td>-122.258764</td>\n      <td>247</td>\n      <td>Fulton St at Bancroft Way</td>\n      <td>37.867789</td>\n      <td>-122.265896</td>\n      <td>3167</td>\n      <td>Subscriber</td>\n    </tr>\n  </tbody>\n</table>\n</div>"
     },
     "metadata": {},
     "execution_count": 4
    }
   ],
   "source": [
    "df.head(5) # Inspecting the data visually at the beginning"
   ]
  },
  {
   "cell_type": "code",
   "execution_count": 21,
   "metadata": {
    "tags": []
   },
   "outputs": [
    {
     "output_type": "stream",
     "name": "stdout",
     "text": "<class 'pandas.core.frame.DataFrame'>\nRangeIndex: 519700 entries, 0 to 519699\nData columns (total 13 columns):\n #   Column                   Non-Null Count   Dtype  \n---  ------                   --------------   -----  \n 0   duration_sec             519700 non-null  int64  \n 1   start_time               519700 non-null  object \n 2   end_time                 519700 non-null  object \n 3   start_station_id         519700 non-null  int64  \n 4   start_station_name       519700 non-null  object \n 5   start_station_latitude   519700 non-null  float64\n 6   start_station_longitude  519700 non-null  float64\n 7   end_station_id           519700 non-null  int64  \n 8   end_station_name         519700 non-null  object \n 9   end_station_latitude     519700 non-null  float64\n 10  end_station_longitude    519700 non-null  float64\n 11  bike_id                  519700 non-null  int64  \n 12  user_type                519700 non-null  object \ndtypes: float64(4), int64(4), object(5)\nmemory usage: 51.5+ MB\n"
    }
   ],
   "source": [
    "df.info(null_counts = True) # No datapoints missing at the first glance\n",
    "\n",
    "# However, columns related to dates should be in datetime format (to be done in the cleaning process)"
   ]
  },
  {
   "cell_type": "code",
   "execution_count": 7,
   "metadata": {},
   "outputs": [
    {
     "output_type": "execute_result",
     "data": {
      "text/plain": "Empty DataFrame\nColumns: [duration_sec, start_time, end_time, start_station_id, start_station_name, start_station_latitude, start_station_longitude, end_station_id, end_station_name, end_station_latitude, end_station_longitude, bike_id, user_type]\nIndex: []",
      "text/html": "<div>\n<style scoped>\n    .dataframe tbody tr th:only-of-type {\n        vertical-align: middle;\n    }\n\n    .dataframe tbody tr th {\n        vertical-align: top;\n    }\n\n    .dataframe thead th {\n        text-align: right;\n    }\n</style>\n<table border=\"1\" class=\"dataframe\">\n  <thead>\n    <tr style=\"text-align: right;\">\n      <th></th>\n      <th>duration_sec</th>\n      <th>start_time</th>\n      <th>end_time</th>\n      <th>start_station_id</th>\n      <th>start_station_name</th>\n      <th>start_station_latitude</th>\n      <th>start_station_longitude</th>\n      <th>end_station_id</th>\n      <th>end_station_name</th>\n      <th>end_station_latitude</th>\n      <th>end_station_longitude</th>\n      <th>bike_id</th>\n      <th>user_type</th>\n    </tr>\n  </thead>\n  <tbody>\n  </tbody>\n</table>\n</div>"
     },
     "metadata": {},
     "execution_count": 7
    }
   ],
   "source": [
    "# Checking for dupes\n",
    "df[df.duplicated() == True]\n",
    "# Straightforward, no duplicates"
   ]
  },
  {
   "cell_type": "code",
   "execution_count": 11,
   "metadata": {},
   "outputs": [
    {
     "output_type": "execute_result",
     "data": {
      "text/plain": "duration_sec               0\nstart_time                 0\nend_time                   0\nstart_station_id           0\nstart_station_name         0\nstart_station_latitude     0\nstart_station_longitude    0\nend_station_id             0\nend_station_name           0\nend_station_latitude       0\nend_station_longitude      0\nbike_id                    0\nuser_type                  0\ndtype: int64"
     },
     "metadata": {},
     "execution_count": 11
    }
   ],
   "source": [
    "# Checking for NaN values\n",
    "df.isna().sum()"
   ]
  },
  {
   "cell_type": "markdown",
   "metadata": {},
   "source": [
    "## Cleaning\n",
    "\n",
    "* Start_Time & End_Time should be datetime format - done\n",
    "* User_Type should be categorical format - done\n",
    "* For the purpose of the analysis, we can add additional columns extracted from the time related columns (such as month, day of the week) - done\n",
    "* Create another column for the trip duration in minutes (for easier use) - done\n",
    "* We should calculate a total distance traveled using the lat/long coordinates"
   ]
  },
  {
   "cell_type": "code",
   "execution_count": 12,
   "metadata": {},
   "outputs": [],
   "source": [
    "# Creating a copy to make the changes upon\n",
    "df_copy = df.copy()"
   ]
  },
  {
   "cell_type": "markdown",
   "metadata": {},
   "source": [
    "### Define\n",
    "* Change start_time & end time to datetime format"
   ]
  },
  {
   "cell_type": "markdown",
   "metadata": {},
   "source": [
    "### Code"
   ]
  },
  {
   "cell_type": "code",
   "execution_count": 14,
   "metadata": {},
   "outputs": [],
   "source": [
    "df_copy['start_time'] = pd.to_datetime(df_copy['start_time'])\n",
    "df_copy['end_time'] = pd.to_datetime(df_copy['end_time'])"
   ]
  },
  {
   "cell_type": "markdown",
   "metadata": {},
   "source": [
    "### Test"
   ]
  },
  {
   "cell_type": "code",
   "execution_count": 15,
   "metadata": {
    "tags": []
   },
   "outputs": [
    {
     "output_type": "stream",
     "name": "stdout",
     "text": "<class 'pandas.core.frame.DataFrame'>\nRangeIndex: 519700 entries, 0 to 519699\nData columns (total 13 columns):\n #   Column                   Non-Null Count   Dtype         \n---  ------                   --------------   -----         \n 0   duration_sec             519700 non-null  int64         \n 1   start_time               519700 non-null  datetime64[ns]\n 2   end_time                 519700 non-null  datetime64[ns]\n 3   start_station_id         519700 non-null  int64         \n 4   start_station_name       519700 non-null  object        \n 5   start_station_latitude   519700 non-null  float64       \n 6   start_station_longitude  519700 non-null  float64       \n 7   end_station_id           519700 non-null  int64         \n 8   end_station_name         519700 non-null  object        \n 9   end_station_latitude     519700 non-null  float64       \n 10  end_station_longitude    519700 non-null  float64       \n 11  bike_id                  519700 non-null  int64         \n 12  user_type                519700 non-null  object        \ndtypes: datetime64[ns](2), float64(4), int64(4), object(3)\nmemory usage: 51.5+ MB\n"
    }
   ],
   "source": [
    "df_copy.info()"
   ]
  },
  {
   "cell_type": "markdown",
   "metadata": {},
   "source": [
    "### Define\n",
    "* Change the user_type column to a categorical type"
   ]
  },
  {
   "cell_type": "markdown",
   "metadata": {},
   "source": [
    "### Code"
   ]
  },
  {
   "cell_type": "code",
   "execution_count": 16,
   "metadata": {},
   "outputs": [],
   "source": [
    "df_copy['user_type'] = df_copy['user_type'].astype('category')"
   ]
  },
  {
   "cell_type": "markdown",
   "metadata": {},
   "source": [
    "### Test"
   ]
  },
  {
   "cell_type": "code",
   "execution_count": 20,
   "metadata": {
    "tags": []
   },
   "outputs": [
    {
     "output_type": "stream",
     "name": "stdout",
     "text": "<class 'pandas.core.frame.DataFrame'>\nRangeIndex: 519700 entries, 0 to 519699\nData columns (total 13 columns):\n #   Column                   Non-Null Count   Dtype         \n---  ------                   --------------   -----         \n 0   duration_sec             519700 non-null  int64         \n 1   start_time               519700 non-null  datetime64[ns]\n 2   end_time                 519700 non-null  datetime64[ns]\n 3   start_station_id         519700 non-null  int64         \n 4   start_station_name       519700 non-null  object        \n 5   start_station_latitude   519700 non-null  float64       \n 6   start_station_longitude  519700 non-null  float64       \n 7   end_station_id           519700 non-null  int64         \n 8   end_station_name         519700 non-null  object        \n 9   end_station_latitude     519700 non-null  float64       \n 10  end_station_longitude    519700 non-null  float64       \n 11  bike_id                  519700 non-null  int64         \n 12  user_type                519700 non-null  category      \ndtypes: category(1), datetime64[ns](2), float64(4), int64(4), object(2)\nmemory usage: 48.1+ MB\n"
    }
   ],
   "source": [
    "df_copy.info()"
   ]
  },
  {
   "cell_type": "markdown",
   "metadata": {},
   "source": [
    "### Define\n",
    "* Create a column for the weekday at the start of the trip\n",
    "* Create a column for the month at the start of the trip"
   ]
  },
  {
   "cell_type": "markdown",
   "metadata": {},
   "source": [
    "### Code"
   ]
  },
  {
   "cell_type": "code",
   "execution_count": 22,
   "metadata": {},
   "outputs": [],
   "source": [
    "df_copy['start_weekday'] = df_copy.start_time.dt.strftime('%A')\n",
    "df_copy['start_month'] = df_copy.start_time.dt.strftime('%B')"
   ]
  },
  {
   "cell_type": "markdown",
   "metadata": {},
   "source": [
    "### Test"
   ]
  },
  {
   "cell_type": "code",
   "execution_count": 23,
   "metadata": {},
   "outputs": [
    {
     "output_type": "execute_result",
     "data": {
      "text/plain": "   duration_sec              start_time                end_time  \\\n0         80110 2017-12-31 16:57:39.654 2018-01-01 15:12:50.245   \n1         78800 2017-12-31 15:56:34.842 2018-01-01 13:49:55.617   \n2         45768 2017-12-31 22:45:48.411 2018-01-01 11:28:36.883   \n3         62172 2017-12-31 17:31:10.636 2018-01-01 10:47:23.531   \n4         43603 2017-12-31 14:23:14.001 2018-01-01 02:29:57.571   \n\n   start_station_id                                 start_station_name  \\\n0                74                              Laguna St at Hayes St   \n1               284  Yerba Buena Center for the Arts (Howard St at ...   \n2               245                             Downtown Berkeley BART   \n3                60                               8th St at Ringold St   \n4               239                      Bancroft Way at Telegraph Ave   \n\n   start_station_latitude  start_station_longitude  end_station_id  \\\n0               37.776435              -122.426244              43   \n1               37.784872              -122.400876              96   \n2               37.870348              -122.267764             245   \n3               37.774520              -122.409449               5   \n4               37.868813              -122.258764             247   \n\n                                    end_station_name  end_station_latitude  \\\n0  San Francisco Public Library (Grove St at Hyde...             37.778768   \n1                              Dolores St at 15th St             37.766210   \n2                             Downtown Berkeley BART             37.870348   \n3       Powell St BART Station (Market St at 5th St)             37.783899   \n4                          Fulton St at Bancroft Way             37.867789   \n\n   end_station_longitude  bike_id   user_type start_weekday start_month  \n0            -122.415929       96    Customer        Sunday    December  \n1            -122.426614       88    Customer        Sunday    December  \n2            -122.267764     1094    Customer        Sunday    December  \n3            -122.408445     2831    Customer        Sunday    December  \n4            -122.265896     3167  Subscriber        Sunday    December  ",
      "text/html": "<div>\n<style scoped>\n    .dataframe tbody tr th:only-of-type {\n        vertical-align: middle;\n    }\n\n    .dataframe tbody tr th {\n        vertical-align: top;\n    }\n\n    .dataframe thead th {\n        text-align: right;\n    }\n</style>\n<table border=\"1\" class=\"dataframe\">\n  <thead>\n    <tr style=\"text-align: right;\">\n      <th></th>\n      <th>duration_sec</th>\n      <th>start_time</th>\n      <th>end_time</th>\n      <th>start_station_id</th>\n      <th>start_station_name</th>\n      <th>start_station_latitude</th>\n      <th>start_station_longitude</th>\n      <th>end_station_id</th>\n      <th>end_station_name</th>\n      <th>end_station_latitude</th>\n      <th>end_station_longitude</th>\n      <th>bike_id</th>\n      <th>user_type</th>\n      <th>start_weekday</th>\n      <th>start_month</th>\n    </tr>\n  </thead>\n  <tbody>\n    <tr>\n      <th>0</th>\n      <td>80110</td>\n      <td>2017-12-31 16:57:39.654</td>\n      <td>2018-01-01 15:12:50.245</td>\n      <td>74</td>\n      <td>Laguna St at Hayes St</td>\n      <td>37.776435</td>\n      <td>-122.426244</td>\n      <td>43</td>\n      <td>San Francisco Public Library (Grove St at Hyde...</td>\n      <td>37.778768</td>\n      <td>-122.415929</td>\n      <td>96</td>\n      <td>Customer</td>\n      <td>Sunday</td>\n      <td>December</td>\n    </tr>\n    <tr>\n      <th>1</th>\n      <td>78800</td>\n      <td>2017-12-31 15:56:34.842</td>\n      <td>2018-01-01 13:49:55.617</td>\n      <td>284</td>\n      <td>Yerba Buena Center for the Arts (Howard St at ...</td>\n      <td>37.784872</td>\n      <td>-122.400876</td>\n      <td>96</td>\n      <td>Dolores St at 15th St</td>\n      <td>37.766210</td>\n      <td>-122.426614</td>\n      <td>88</td>\n      <td>Customer</td>\n      <td>Sunday</td>\n      <td>December</td>\n    </tr>\n    <tr>\n      <th>2</th>\n      <td>45768</td>\n      <td>2017-12-31 22:45:48.411</td>\n      <td>2018-01-01 11:28:36.883</td>\n      <td>245</td>\n      <td>Downtown Berkeley BART</td>\n      <td>37.870348</td>\n      <td>-122.267764</td>\n      <td>245</td>\n      <td>Downtown Berkeley BART</td>\n      <td>37.870348</td>\n      <td>-122.267764</td>\n      <td>1094</td>\n      <td>Customer</td>\n      <td>Sunday</td>\n      <td>December</td>\n    </tr>\n    <tr>\n      <th>3</th>\n      <td>62172</td>\n      <td>2017-12-31 17:31:10.636</td>\n      <td>2018-01-01 10:47:23.531</td>\n      <td>60</td>\n      <td>8th St at Ringold St</td>\n      <td>37.774520</td>\n      <td>-122.409449</td>\n      <td>5</td>\n      <td>Powell St BART Station (Market St at 5th St)</td>\n      <td>37.783899</td>\n      <td>-122.408445</td>\n      <td>2831</td>\n      <td>Customer</td>\n      <td>Sunday</td>\n      <td>December</td>\n    </tr>\n    <tr>\n      <th>4</th>\n      <td>43603</td>\n      <td>2017-12-31 14:23:14.001</td>\n      <td>2018-01-01 02:29:57.571</td>\n      <td>239</td>\n      <td>Bancroft Way at Telegraph Ave</td>\n      <td>37.868813</td>\n      <td>-122.258764</td>\n      <td>247</td>\n      <td>Fulton St at Bancroft Way</td>\n      <td>37.867789</td>\n      <td>-122.265896</td>\n      <td>3167</td>\n      <td>Subscriber</td>\n      <td>Sunday</td>\n      <td>December</td>\n    </tr>\n  </tbody>\n</table>\n</div>"
     },
     "metadata": {},
     "execution_count": 23
    }
   ],
   "source": [
    "df_copy.head(5)"
   ]
  },
  {
   "cell_type": "markdown",
   "metadata": {},
   "source": [
    "### Define\n",
    "* Create a column for trip duration in minutes"
   ]
  },
  {
   "cell_type": "markdown",
   "metadata": {},
   "source": [
    "### Code"
   ]
  },
  {
   "cell_type": "code",
   "execution_count": 24,
   "metadata": {},
   "outputs": [],
   "source": [
    "df_copy['duration_min'] = df_copy['duration_sec']/60"
   ]
  },
  {
   "cell_type": "markdown",
   "metadata": {},
   "source": [
    "### Test"
   ]
  },
  {
   "cell_type": "code",
   "execution_count": 27,
   "metadata": {},
   "outputs": [
    {
     "output_type": "execute_result",
     "data": {
      "text/plain": "   duration_sec              start_time                end_time  \\\n0         80110 2017-12-31 16:57:39.654 2018-01-01 15:12:50.245   \n1         78800 2017-12-31 15:56:34.842 2018-01-01 13:49:55.617   \n2         45768 2017-12-31 22:45:48.411 2018-01-01 11:28:36.883   \n3         62172 2017-12-31 17:31:10.636 2018-01-01 10:47:23.531   \n4         43603 2017-12-31 14:23:14.001 2018-01-01 02:29:57.571   \n\n   start_station_id                                 start_station_name  \\\n0                74                              Laguna St at Hayes St   \n1               284  Yerba Buena Center for the Arts (Howard St at ...   \n2               245                             Downtown Berkeley BART   \n3                60                               8th St at Ringold St   \n4               239                      Bancroft Way at Telegraph Ave   \n\n   start_station_latitude  start_station_longitude  end_station_id  \\\n0               37.776435              -122.426244              43   \n1               37.784872              -122.400876              96   \n2               37.870348              -122.267764             245   \n3               37.774520              -122.409449               5   \n4               37.868813              -122.258764             247   \n\n                                    end_station_name  end_station_latitude  \\\n0  San Francisco Public Library (Grove St at Hyde...             37.778768   \n1                              Dolores St at 15th St             37.766210   \n2                             Downtown Berkeley BART             37.870348   \n3       Powell St BART Station (Market St at 5th St)             37.783899   \n4                          Fulton St at Bancroft Way             37.867789   \n\n   end_station_longitude  bike_id   user_type start_weekday start_month  \\\n0            -122.415929       96    Customer        Sunday    December   \n1            -122.426614       88    Customer        Sunday    December   \n2            -122.267764     1094    Customer        Sunday    December   \n3            -122.408445     2831    Customer        Sunday    December   \n4            -122.265896     3167  Subscriber        Sunday    December   \n\n   duration_min  \n0   1335.166667  \n1   1313.333333  \n2    762.800000  \n3   1036.200000  \n4    726.716667  ",
      "text/html": "<div>\n<style scoped>\n    .dataframe tbody tr th:only-of-type {\n        vertical-align: middle;\n    }\n\n    .dataframe tbody tr th {\n        vertical-align: top;\n    }\n\n    .dataframe thead th {\n        text-align: right;\n    }\n</style>\n<table border=\"1\" class=\"dataframe\">\n  <thead>\n    <tr style=\"text-align: right;\">\n      <th></th>\n      <th>duration_sec</th>\n      <th>start_time</th>\n      <th>end_time</th>\n      <th>start_station_id</th>\n      <th>start_station_name</th>\n      <th>start_station_latitude</th>\n      <th>start_station_longitude</th>\n      <th>end_station_id</th>\n      <th>end_station_name</th>\n      <th>end_station_latitude</th>\n      <th>end_station_longitude</th>\n      <th>bike_id</th>\n      <th>user_type</th>\n      <th>start_weekday</th>\n      <th>start_month</th>\n      <th>duration_min</th>\n    </tr>\n  </thead>\n  <tbody>\n    <tr>\n      <th>0</th>\n      <td>80110</td>\n      <td>2017-12-31 16:57:39.654</td>\n      <td>2018-01-01 15:12:50.245</td>\n      <td>74</td>\n      <td>Laguna St at Hayes St</td>\n      <td>37.776435</td>\n      <td>-122.426244</td>\n      <td>43</td>\n      <td>San Francisco Public Library (Grove St at Hyde...</td>\n      <td>37.778768</td>\n      <td>-122.415929</td>\n      <td>96</td>\n      <td>Customer</td>\n      <td>Sunday</td>\n      <td>December</td>\n      <td>1335.166667</td>\n    </tr>\n    <tr>\n      <th>1</th>\n      <td>78800</td>\n      <td>2017-12-31 15:56:34.842</td>\n      <td>2018-01-01 13:49:55.617</td>\n      <td>284</td>\n      <td>Yerba Buena Center for the Arts (Howard St at ...</td>\n      <td>37.784872</td>\n      <td>-122.400876</td>\n      <td>96</td>\n      <td>Dolores St at 15th St</td>\n      <td>37.766210</td>\n      <td>-122.426614</td>\n      <td>88</td>\n      <td>Customer</td>\n      <td>Sunday</td>\n      <td>December</td>\n      <td>1313.333333</td>\n    </tr>\n    <tr>\n      <th>2</th>\n      <td>45768</td>\n      <td>2017-12-31 22:45:48.411</td>\n      <td>2018-01-01 11:28:36.883</td>\n      <td>245</td>\n      <td>Downtown Berkeley BART</td>\n      <td>37.870348</td>\n      <td>-122.267764</td>\n      <td>245</td>\n      <td>Downtown Berkeley BART</td>\n      <td>37.870348</td>\n      <td>-122.267764</td>\n      <td>1094</td>\n      <td>Customer</td>\n      <td>Sunday</td>\n      <td>December</td>\n      <td>762.800000</td>\n    </tr>\n    <tr>\n      <th>3</th>\n      <td>62172</td>\n      <td>2017-12-31 17:31:10.636</td>\n      <td>2018-01-01 10:47:23.531</td>\n      <td>60</td>\n      <td>8th St at Ringold St</td>\n      <td>37.774520</td>\n      <td>-122.409449</td>\n      <td>5</td>\n      <td>Powell St BART Station (Market St at 5th St)</td>\n      <td>37.783899</td>\n      <td>-122.408445</td>\n      <td>2831</td>\n      <td>Customer</td>\n      <td>Sunday</td>\n      <td>December</td>\n      <td>1036.200000</td>\n    </tr>\n    <tr>\n      <th>4</th>\n      <td>43603</td>\n      <td>2017-12-31 14:23:14.001</td>\n      <td>2018-01-01 02:29:57.571</td>\n      <td>239</td>\n      <td>Bancroft Way at Telegraph Ave</td>\n      <td>37.868813</td>\n      <td>-122.258764</td>\n      <td>247</td>\n      <td>Fulton St at Bancroft Way</td>\n      <td>37.867789</td>\n      <td>-122.265896</td>\n      <td>3167</td>\n      <td>Subscriber</td>\n      <td>Sunday</td>\n      <td>December</td>\n      <td>726.716667</td>\n    </tr>\n  </tbody>\n</table>\n</div>"
     },
     "metadata": {},
     "execution_count": 27
    }
   ],
   "source": [
    "df_copy.head(5)"
   ]
  },
  {
   "cell_type": "markdown",
   "metadata": {},
   "source": [
    "### Define\n",
    "Calculate the total distance traveled using the latitude & longitude coordinates"
   ]
  },
  {
   "cell_type": "markdown",
   "metadata": {},
   "source": [
    "### Code /// Found a easy to understand function on stackoverflow. Reference at the end for future use"
   ]
  },
  {
   "cell_type": "code",
   "execution_count": 28,
   "metadata": {},
   "outputs": [],
   "source": [
    "import math\n",
    "\n",
    "def distance(origin, destination):\n",
    "    \"\"\"\n",
    "    Calculate the Haversine distance.\n",
    "\n",
    "    Parameters\n",
    "    ----------\n",
    "    origin : tuple of float\n",
    "        (lat, long)\n",
    "    destination : tuple of float\n",
    "        (lat, long)\n",
    "\n",
    "    Returns\n",
    "    -------\n",
    "    distance_in_km : float\n",
    "\n",
    "    Examples\n",
    "    --------\n",
    "    >>> origin = (48.1372, 11.5756)  # Munich\n",
    "    >>> destination = (52.5186, 13.4083)  # Berlin\n",
    "    >>> round(distance(origin, destination), 1)\n",
    "    504.2\n",
    "    \"\"\"\n",
    "    lat1, lon1 = origin\n",
    "    lat2, lon2 = destination\n",
    "    radius = 6371  # km\n",
    "\n",
    "    dlat = math.radians(lat2 - lat1)\n",
    "    dlon = math.radians(lon2 - lon1)\n",
    "    a = (math.sin(dlat / 2) * math.sin(dlat / 2) + math.cos(math.radians(lat1)) * math.cos(math.radians(lat2)) *\n",
    "         math.sin(dlon / 2) * math.sin(dlon / 2))\n",
    "    c = 2 * math.atan2(math.sqrt(a), math.sqrt(1 - a))\n",
    "    d = radius * c\n",
    "\n",
    "    return d"
   ]
  },
  {
   "cell_type": "code",
   "execution_count": 31,
   "metadata": {},
   "outputs": [],
   "source": [
    "df_copy['distance_km'] = df_copy.apply(lambda x: distance((x['start_station_latitude'], x['start_station_longitude']), (x['end_station_latitude'], x['end_station_longitude'])), axis = 1)"
   ]
  },
  {
   "cell_type": "code",
   "execution_count": 32,
   "metadata": {},
   "outputs": [
    {
     "output_type": "execute_result",
     "data": {
      "text/plain": "   duration_sec              start_time                end_time  \\\n0         80110 2017-12-31 16:57:39.654 2018-01-01 15:12:50.245   \n1         78800 2017-12-31 15:56:34.842 2018-01-01 13:49:55.617   \n2         45768 2017-12-31 22:45:48.411 2018-01-01 11:28:36.883   \n3         62172 2017-12-31 17:31:10.636 2018-01-01 10:47:23.531   \n4         43603 2017-12-31 14:23:14.001 2018-01-01 02:29:57.571   \n\n   start_station_id                                 start_station_name  \\\n0                74                              Laguna St at Hayes St   \n1               284  Yerba Buena Center for the Arts (Howard St at ...   \n2               245                             Downtown Berkeley BART   \n3                60                               8th St at Ringold St   \n4               239                      Bancroft Way at Telegraph Ave   \n\n   start_station_latitude  start_station_longitude  end_station_id  \\\n0               37.776435              -122.426244              43   \n1               37.784872              -122.400876              96   \n2               37.870348              -122.267764             245   \n3               37.774520              -122.409449               5   \n4               37.868813              -122.258764             247   \n\n                                    end_station_name  end_station_latitude  \\\n0  San Francisco Public Library (Grove St at Hyde...             37.778768   \n1                              Dolores St at 15th St             37.766210   \n2                             Downtown Berkeley BART             37.870348   \n3       Powell St BART Station (Market St at 5th St)             37.783899   \n4                          Fulton St at Bancroft Way             37.867789   \n\n   end_station_longitude  bike_id   user_type start_weekday start_month  \\\n0            -122.415929       96    Customer        Sunday    December   \n1            -122.426614       88    Customer        Sunday    December   \n2            -122.267764     1094    Customer        Sunday    December   \n3            -122.408445     2831    Customer        Sunday    December   \n4            -122.265896     3167  Subscriber        Sunday    December   \n\n   duration_min  distance_km  \n0   1335.166667     0.942931  \n1   1313.333333     3.069727  \n2    762.800000     0.000000  \n3   1036.200000     1.046622  \n4    726.716667     0.636339  ",
      "text/html": "<div>\n<style scoped>\n    .dataframe tbody tr th:only-of-type {\n        vertical-align: middle;\n    }\n\n    .dataframe tbody tr th {\n        vertical-align: top;\n    }\n\n    .dataframe thead th {\n        text-align: right;\n    }\n</style>\n<table border=\"1\" class=\"dataframe\">\n  <thead>\n    <tr style=\"text-align: right;\">\n      <th></th>\n      <th>duration_sec</th>\n      <th>start_time</th>\n      <th>end_time</th>\n      <th>start_station_id</th>\n      <th>start_station_name</th>\n      <th>start_station_latitude</th>\n      <th>start_station_longitude</th>\n      <th>end_station_id</th>\n      <th>end_station_name</th>\n      <th>end_station_latitude</th>\n      <th>end_station_longitude</th>\n      <th>bike_id</th>\n      <th>user_type</th>\n      <th>start_weekday</th>\n      <th>start_month</th>\n      <th>duration_min</th>\n      <th>distance_km</th>\n    </tr>\n  </thead>\n  <tbody>\n    <tr>\n      <th>0</th>\n      <td>80110</td>\n      <td>2017-12-31 16:57:39.654</td>\n      <td>2018-01-01 15:12:50.245</td>\n      <td>74</td>\n      <td>Laguna St at Hayes St</td>\n      <td>37.776435</td>\n      <td>-122.426244</td>\n      <td>43</td>\n      <td>San Francisco Public Library (Grove St at Hyde...</td>\n      <td>37.778768</td>\n      <td>-122.415929</td>\n      <td>96</td>\n      <td>Customer</td>\n      <td>Sunday</td>\n      <td>December</td>\n      <td>1335.166667</td>\n      <td>0.942931</td>\n    </tr>\n    <tr>\n      <th>1</th>\n      <td>78800</td>\n      <td>2017-12-31 15:56:34.842</td>\n      <td>2018-01-01 13:49:55.617</td>\n      <td>284</td>\n      <td>Yerba Buena Center for the Arts (Howard St at ...</td>\n      <td>37.784872</td>\n      <td>-122.400876</td>\n      <td>96</td>\n      <td>Dolores St at 15th St</td>\n      <td>37.766210</td>\n      <td>-122.426614</td>\n      <td>88</td>\n      <td>Customer</td>\n      <td>Sunday</td>\n      <td>December</td>\n      <td>1313.333333</td>\n      <td>3.069727</td>\n    </tr>\n    <tr>\n      <th>2</th>\n      <td>45768</td>\n      <td>2017-12-31 22:45:48.411</td>\n      <td>2018-01-01 11:28:36.883</td>\n      <td>245</td>\n      <td>Downtown Berkeley BART</td>\n      <td>37.870348</td>\n      <td>-122.267764</td>\n      <td>245</td>\n      <td>Downtown Berkeley BART</td>\n      <td>37.870348</td>\n      <td>-122.267764</td>\n      <td>1094</td>\n      <td>Customer</td>\n      <td>Sunday</td>\n      <td>December</td>\n      <td>762.800000</td>\n      <td>0.000000</td>\n    </tr>\n    <tr>\n      <th>3</th>\n      <td>62172</td>\n      <td>2017-12-31 17:31:10.636</td>\n      <td>2018-01-01 10:47:23.531</td>\n      <td>60</td>\n      <td>8th St at Ringold St</td>\n      <td>37.774520</td>\n      <td>-122.409449</td>\n      <td>5</td>\n      <td>Powell St BART Station (Market St at 5th St)</td>\n      <td>37.783899</td>\n      <td>-122.408445</td>\n      <td>2831</td>\n      <td>Customer</td>\n      <td>Sunday</td>\n      <td>December</td>\n      <td>1036.200000</td>\n      <td>1.046622</td>\n    </tr>\n    <tr>\n      <th>4</th>\n      <td>43603</td>\n      <td>2017-12-31 14:23:14.001</td>\n      <td>2018-01-01 02:29:57.571</td>\n      <td>239</td>\n      <td>Bancroft Way at Telegraph Ave</td>\n      <td>37.868813</td>\n      <td>-122.258764</td>\n      <td>247</td>\n      <td>Fulton St at Bancroft Way</td>\n      <td>37.867789</td>\n      <td>-122.265896</td>\n      <td>3167</td>\n      <td>Subscriber</td>\n      <td>Sunday</td>\n      <td>December</td>\n      <td>726.716667</td>\n      <td>0.636339</td>\n    </tr>\n  </tbody>\n</table>\n</div>"
     },
     "metadata": {},
     "execution_count": 32
    }
   ],
   "source": [
    "df_copy.head(5)"
   ]
  },
  {
   "cell_type": "markdown",
   "metadata": {},
   "source": [
    "### Now that we have finished our cleaning up process, we will save the dataframe in a clean copy which we will use for our visual exploration."
   ]
  },
  {
   "cell_type": "code",
   "execution_count": 35,
   "metadata": {},
   "outputs": [],
   "source": [
    "df_clean = df_copy.copy()\n",
    "df_clean.to_csv('2017-fordgobike_mater.csv')"
   ]
  },
  {
   "cell_type": "markdown",
   "metadata": {},
   "source": [
    "### Some thoughts so far on the dataset\n",
    "\n",
    "#### The FordGoBike dataset is very intuitive and easy to understand. It comes in a very clean manner, with very few things that had to be done to it. The dataset that I am using is for the year 2017.\n",
    "\n",
    "The columns in the dataframe should provide enough information as to what is captured in them:\n",
    "\n",
    "* Trip Duration:\n",
    "    - in seconds\n",
    "* Start Station:\n",
    "    - ID\n",
    "    - Name\n",
    "    - Latitude\n",
    "    - Longitude\n",
    "* End Station:\n",
    "    - ID\n",
    "    - Name\n",
    "    - Latitude\n",
    "    - Longitude\n",
    "* Bike ID\n",
    "* User Type:\n",
    "    - Subscriber\n",
    "    - Customer\n",
    "\n",
    "Apart from these I created the following so we can analyze them:\n",
    "\n",
    "* Month of the trip's start time\n",
    "* Day of the week of the trip's start time\n",
    "* Distance (in km)\n",
    "* Duration (in minutes)\n"
   ]
  },
  {
   "cell_type": "markdown",
   "metadata": {},
   "source": [
    "# Univariate Exploration"
   ]
  },
  {
   "cell_type": "code",
   "execution_count": null,
   "metadata": {},
   "outputs": [],
   "source": []
  }
 ]
}